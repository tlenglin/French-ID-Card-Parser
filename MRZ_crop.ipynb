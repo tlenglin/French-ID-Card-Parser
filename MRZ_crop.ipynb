{
 "cells": [
  {
   "cell_type": "code",
   "execution_count": 2,
   "metadata": {},
   "outputs": [],
   "source": [
    "# import the necessary packages\n",
    "from imutils import paths\n",
    "import numpy as np\n",
    "import argparse\n",
    "import imutils\n",
    "import cv2"
   ]
  },
  {
   "cell_type": "code",
   "execution_count": 3,
   "metadata": {},
   "outputs": [
    {
     "data": {
      "text/plain": [
       "_StoreAction(option_strings=['-i', '--images'], dest='images', nargs=None, const=None, default=None, type=None, choices=None, help='path to images directory', metavar=None)"
      ]
     },
     "execution_count": 3,
     "metadata": {},
     "output_type": "execute_result"
    }
   ],
   "source": [
    "# construct the argument parse and parse the arguments\n",
    "ap = argparse.ArgumentParser()\n",
    "ap.add_argument(\"-i\", \"--images\", required=True, help=\"path to images directory\")"
   ]
  },
  {
   "cell_type": "code",
   "execution_count": 4,
   "metadata": {},
   "outputs": [
    {
     "name": "stderr",
     "output_type": "stream",
     "text": [
      "usage: ipykernel_launcher.py [-h] -i IMAGES\n",
      "ipykernel_launcher.py: error: argument -i/--images is required\n"
     ]
    },
    {
     "ename": "SystemExit",
     "evalue": "2",
     "output_type": "error",
     "traceback": [
      "An exception has occurred, use %tb to see the full traceback.\n",
      "\u001b[0;31mSystemExit\u001b[0m\u001b[0;31m:\u001b[0m 2\n"
     ]
    },
    {
     "name": "stderr",
     "output_type": "stream",
     "text": [
      "/Users/tlenglin/Library/Python/2.7/lib/python/site-packages/IPython/core/interactiveshell.py:2890: UserWarning: To exit: use 'exit', 'quit', or Ctrl-D.\n",
      "  warn(\"To exit: use 'exit', 'quit', or Ctrl-D.\", stacklevel=1)\n"
     ]
    }
   ],
   "source": [
    "args = vars(ap.parse_args())"
   ]
  },
  {
   "cell_type": "code",
   "execution_count": 5,
   "metadata": {},
   "outputs": [],
   "source": [
    "# initialize a rectangular and square structuring kernel\n",
    "rectKernel = cv2.getStructuringElement(cv2.MORPH_RECT, (13, 5))\n",
    "sqKernel = cv2.getStructuringElement(cv2.MORPH_RECT, (21, 30))"
   ]
  },
  {
   "cell_type": "code",
   "execution_count": 6,
   "metadata": {},
   "outputs": [],
   "source": [
    "# loop over the input image paths\n",
    "for imagePath in paths.list_images(\"./images\"):\n",
    "    # load the image, resize it, and convert it to grayscale\n",
    "    image = cv2.imread(imagePath)\n",
    "    image = imutils.resize(image, height=600)\n",
    "    gray = cv2.cvtColor(image, cv2.COLOR_BGR2GRAY)\n",
    " \n",
    "    # smooth the image using a 3x3 Gaussian, then apply the blackhat\n",
    "    # morphological operator to find dark regions on a light background\n",
    "    gray = cv2.GaussianBlur(gray, (3, 3), 0)\n",
    "    blackhat = cv2.morphologyEx(gray, cv2.MORPH_BLACKHAT, rectKernel)"
   ]
  },
  {
   "cell_type": "code",
   "execution_count": 7,
   "metadata": {},
   "outputs": [
    {
     "data": {
      "text/plain": [
       "array([[0, 0, 0, ..., 1, 2, 2],\n",
       "       [0, 0, 0, ..., 2, 2, 2],\n",
       "       [0, 0, 0, ..., 2, 2, 2],\n",
       "       ..., \n",
       "       [0, 0, 0, ..., 0, 0, 0],\n",
       "       [0, 0, 0, ..., 1, 0, 0],\n",
       "       [0, 0, 0, ..., 1, 0, 0]], dtype=uint8)"
      ]
     },
     "execution_count": 7,
     "metadata": {},
     "output_type": "execute_result"
    }
   ],
   "source": [
    "blackhat"
   ]
  },
  {
   "cell_type": "code",
   "execution_count": 8,
   "metadata": {},
   "outputs": [],
   "source": [
    "# compute the Scharr gradient of the blackhat image and scale the\n",
    "# result into the range [0, 255]\n",
    "gradX = cv2.Sobel(blackhat, ddepth=cv2.CV_32F, dx=1, dy=0, ksize=-1)\n",
    "gradX = np.absolute(gradX)\n",
    "(minVal, maxVal) = (np.min(gradX), np.max(gradX))\n",
    "gradX = (255 * ((gradX - minVal) / (maxVal - minVal))).astype(\"uint8\")"
   ]
  },
  {
   "cell_type": "code",
   "execution_count": 9,
   "metadata": {},
   "outputs": [],
   "source": [
    "# apply a closing operation using the rectangular kernel to close\n",
    "# gaps in between letters -- then apply Otsu's thresholding method\n",
    "gradX = cv2.morphologyEx(gradX, cv2.MORPH_CLOSE, rectKernel)\n"
   ]
  },
  {
   "cell_type": "code",
   "execution_count": 10,
   "metadata": {},
   "outputs": [
    {
     "data": {
      "text/plain": [
       "0"
      ]
     },
     "execution_count": 10,
     "metadata": {},
     "output_type": "execute_result"
    }
   ],
   "source": [
    "cv2.imshow(\"TEST-1\", gradX)\n",
    "cv2.waitKey(0)"
   ]
  },
  {
   "cell_type": "code",
   "execution_count": 11,
   "metadata": {},
   "outputs": [],
   "source": [
    "thresh = cv2.threshold(gradX, 0, 255, cv2.THRESH_BINARY | cv2.THRESH_OTSU)[1]"
   ]
  },
  {
   "cell_type": "code",
   "execution_count": 12,
   "metadata": {},
   "outputs": [
    {
     "data": {
      "text/plain": [
       "0"
      ]
     },
     "execution_count": 12,
     "metadata": {},
     "output_type": "execute_result"
    }
   ],
   "source": [
    "cv2.imshow(\"TEST0\", thresh)\n",
    "cv2.waitKey(0)"
   ]
  },
  {
   "cell_type": "code",
   "execution_count": 13,
   "metadata": {},
   "outputs": [],
   "source": [
    "# perform another closing operation, this time using the square\n",
    "# kernel to close gaps between lines of the MRZ, then perform a\n",
    "# series of erosions to break apart connected components\n",
    "thresh = cv2.morphologyEx(thresh, cv2.MORPH_CLOSE, sqKernel)\n",
    "thresh = cv2.erode(thresh, None, iterations=4)"
   ]
  },
  {
   "cell_type": "code",
   "execution_count": 14,
   "metadata": {},
   "outputs": [
    {
     "data": {
      "text/plain": [
       "0"
      ]
     },
     "execution_count": 14,
     "metadata": {},
     "output_type": "execute_result"
    }
   ],
   "source": [
    "cv2.imshow(\"TEST\", thresh)\n",
    "cv2.waitKey(0)"
   ]
  },
  {
   "cell_type": "code",
   "execution_count": 15,
   "metadata": {},
   "outputs": [],
   "source": [
    "thresh = cv2.morphologyEx(thresh, cv2.MORPH_CLOSE, rectKernel)"
   ]
  },
  {
   "cell_type": "code",
   "execution_count": 16,
   "metadata": {},
   "outputs": [
    {
     "data": {
      "text/plain": [
       "0"
      ]
     },
     "execution_count": 16,
     "metadata": {},
     "output_type": "execute_result"
    }
   ],
   "source": [
    "cv2.imshow(\"TEST2\", thresh)\n",
    "cv2.waitKey(0)"
   ]
  },
  {
   "cell_type": "code",
   "execution_count": 17,
   "metadata": {},
   "outputs": [],
   "source": [
    "# during thresholding, it's possible that border pixels were\n",
    "# included in the thresholding, so let's set 5% of the left and\n",
    "# right borders to zero\n",
    "p = int(image.shape[1] * 0.05)\n",
    "thresh[:, 0:p] = 0\n",
    "thresh[:, image.shape[1] - p:] = 0"
   ]
  },
  {
   "cell_type": "code",
   "execution_count": 18,
   "metadata": {},
   "outputs": [],
   "source": [
    "# find contours in the thresholded image and sort them by their\n",
    "# size\n",
    "cnts = cv2.findContours(thresh.copy(), cv2.RETR_EXTERNAL,\n",
    "    cv2.CHAIN_APPROX_SIMPLE)[-2]\n",
    "cnts = sorted(cnts, key=cv2.contourArea, reverse=True)"
   ]
  },
  {
   "cell_type": "code",
   "execution_count": 19,
   "metadata": {},
   "outputs": [],
   "source": [
    "# loop over the contours\n",
    "for c in cnts:\n",
    "    # compute the bounding box of the contour and use the contour to\n",
    "    # compute the aspect ratio and coverage ratio of the bounding box\n",
    "    # width to the width of the image\n",
    "    (x, y, w, h) = cv2.boundingRect(c)\n",
    "    ar = w / float(h)\n",
    "    crWidth = w / float(gray.shape[1])\n",
    " \n",
    "    # check to see if the aspect ratio and coverage width are within\n",
    "    # acceptable criteria\n",
    "    if ar > 5 and crWidth > 0.75:\n",
    "        # pad the bounding box since we applied erosions and now need\n",
    "        # to re-grow it\n",
    "        pX = int((x + w) * 0.03)\n",
    "        pY = int((y + h) * 0.03)\n",
    "        (x, y) = (x - pX, y - pY)\n",
    "        (w, h) = (w + (pX * 2), h + (pY * 2))\n",
    " \n",
    "        # extract the ROI from the image and draw a bounding box\n",
    "        # surrounding the MRZ\n",
    "        roi = image[y:y + h, x:x + w].copy()\n",
    "        cv2.rectangle(image, (x, y), (x + w, y + h), (0, 255, 0), 2)\n",
    "        break"
   ]
  },
  {
   "cell_type": "code",
   "execution_count": null,
   "metadata": {},
   "outputs": [],
   "source": [
    "# show the output images\n",
    "cv2.imshow(\"Image\", image)\n",
    "cv2.imshow(\"ROI\", roi)\n",
    "cv2.waitKey(0)"
   ]
  },
  {
   "cell_type": "code",
   "execution_count": 15,
   "metadata": {},
   "outputs": [
    {
     "data": {
      "text/plain": [
       "array([[[193,  99,   0],\n",
       "        [194, 100,   0],\n",
       "        [194, 100,   0],\n",
       "        ..., \n",
       "        [204, 103,   1],\n",
       "        [206, 105,   2],\n",
       "        [208, 107,   5]],\n",
       "\n",
       "       [[193,  99,   0],\n",
       "        [194, 100,   1],\n",
       "        [194, 100,   1],\n",
       "        ..., \n",
       "        [206, 105,   2],\n",
       "        [208, 107,   5],\n",
       "        [210, 109,   7]],\n",
       "\n",
       "       [[198, 104,   4],\n",
       "        [197, 103,   3],\n",
       "        [196, 102,   2],\n",
       "        ..., \n",
       "        [207, 106,   3],\n",
       "        [209, 108,   5],\n",
       "        [209, 108,   6]],\n",
       "\n",
       "       ..., \n",
       "       [[200, 121,  63],\n",
       "        [208, 130,  72],\n",
       "        [206, 129,  71],\n",
       "        ..., \n",
       "        [166, 101,  13],\n",
       "        [163,  98,   9],\n",
       "        [157,  92,   3]],\n",
       "\n",
       "       [[200, 124,  67],\n",
       "        [207, 130,  74],\n",
       "        [201, 126,  69],\n",
       "        ..., \n",
       "        [167, 101,  12],\n",
       "        [164,  98,   8],\n",
       "        [157,  91,   1]],\n",
       "\n",
       "       [[194, 119,  63],\n",
       "        [196, 122,  66],\n",
       "        [193, 121,  63],\n",
       "        ..., \n",
       "        [165,  98,   8],\n",
       "        [164,  99,   7],\n",
       "        [162,  97,   5]]], dtype=uint8)"
      ]
     },
     "execution_count": 15,
     "metadata": {},
     "output_type": "execute_result"
    }
   ],
   "source": []
  },
  {
   "cell_type": "code",
   "execution_count": null,
   "metadata": {},
   "outputs": [],
   "source": []
  }
 ],
 "metadata": {
  "kernelspec": {
   "display_name": "Python 2",
   "language": "python",
   "name": "python2"
  },
  "language_info": {
   "codemirror_mode": {
    "name": "ipython",
    "version": 2
   },
   "file_extension": ".py",
   "mimetype": "text/x-python",
   "name": "python",
   "nbconvert_exporter": "python",
   "pygments_lexer": "ipython2",
   "version": "2.7.10"
  }
 },
 "nbformat": 4,
 "nbformat_minor": 2
}
